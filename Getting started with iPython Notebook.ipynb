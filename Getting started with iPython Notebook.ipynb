{
 "cells": [
  {
   "cell_type": "markdown",
   "metadata": {},
   "source": [
    "# Installing Python and GraphLab Create"
   ]
  },
  {
   "cell_type": "markdown",
   "metadata": {},
   "source": [
    "Please follow the installation instructions here before getting started:\n",
    "\n",
    "\n",
    "## We have done\n",
    "* Installed Python\n",
    "* Started Ipython Notebook"
   ]
  },
  {
   "cell_type": "markdown",
   "metadata": {},
   "source": [
    "# Getting started with Python"
   ]
  },
  {
   "cell_type": "code",
   "execution_count": 1,
   "metadata": {},
   "outputs": [
    {
     "name": "stdout",
     "output_type": "stream",
     "text": [
      "Hello World!\n"
     ]
    }
   ],
   "source": [
    "print 'Hello World!'"
   ]
  },
  {
   "cell_type": "markdown",
   "metadata": {},
   "source": [
    "## Create some variables in Python"
   ]
  },
  {
   "cell_type": "code",
   "execution_count": 2,
   "metadata": {
    "collapsed": true
   },
   "outputs": [],
   "source": [
    "i = 4  #int"
   ]
  },
  {
   "cell_type": "code",
   "execution_count": 3,
   "metadata": {},
   "outputs": [
    {
     "data": {
      "text/plain": [
       "int"
      ]
     },
     "execution_count": 3,
     "metadata": {},
     "output_type": "execute_result"
    }
   ],
   "source": [
    "type(i)"
   ]
  },
  {
   "cell_type": "code",
   "execution_count": 4,
   "metadata": {
    "collapsed": true
   },
   "outputs": [],
   "source": [
    "f = 4.1  #float"
   ]
  },
  {
   "cell_type": "code",
   "execution_count": 5,
   "metadata": {},
   "outputs": [
    {
     "data": {
      "text/plain": [
       "float"
      ]
     },
     "execution_count": 5,
     "metadata": {},
     "output_type": "execute_result"
    }
   ],
   "source": [
    "type(f)"
   ]
  },
  {
   "cell_type": "code",
   "execution_count": 6,
   "metadata": {
    "collapsed": true
   },
   "outputs": [],
   "source": [
    "b = True  #boolean variable"
   ]
  },
  {
   "cell_type": "code",
   "execution_count": 7,
   "metadata": {
    "collapsed": true
   },
   "outputs": [],
   "source": [
    "s = \"This is a string!\""
   ]
  },
  {
   "cell_type": "code",
   "execution_count": 8,
   "metadata": {},
   "outputs": [
    {
     "name": "stdout",
     "output_type": "stream",
     "text": [
      "This is a string!\n"
     ]
    }
   ],
   "source": [
    "print s"
   ]
  },
  {
   "cell_type": "markdown",
   "metadata": {},
   "source": [
    "## Advanced python types"
   ]
  },
  {
   "cell_type": "code",
   "execution_count": 9,
   "metadata": {
    "collapsed": true
   },
   "outputs": [],
   "source": [
    "l = [3,1,2]  #list"
   ]
  },
  {
   "cell_type": "code",
   "execution_count": 10,
   "metadata": {},
   "outputs": [
    {
     "name": "stdout",
     "output_type": "stream",
     "text": [
      "[3, 1, 2]\n"
     ]
    }
   ],
   "source": [
    "print l"
   ]
  },
  {
   "cell_type": "code",
   "execution_count": 11,
   "metadata": {
    "collapsed": true
   },
   "outputs": [],
   "source": [
    "d = {'foo':1, 'bar':2.3, 's':'my first dictionary'}  #dictionary"
   ]
  },
  {
   "cell_type": "code",
   "execution_count": 12,
   "metadata": {},
   "outputs": [
    {
     "name": "stdout",
     "output_type": "stream",
     "text": [
      "{'s': 'my first dictionary', 'foo': 1, 'bar': 2.3}\n"
     ]
    }
   ],
   "source": [
    "print d"
   ]
  },
  {
   "cell_type": "code",
   "execution_count": 13,
   "metadata": {},
   "outputs": [
    {
     "name": "stdout",
     "output_type": "stream",
     "text": [
      "1\n"
     ]
    }
   ],
   "source": [
    "print d['foo']  #element of a dictionary"
   ]
  },
  {
   "cell_type": "code",
   "execution_count": 14,
   "metadata": {
    "collapsed": true
   },
   "outputs": [],
   "source": [
    "n = None  #Python's null type"
   ]
  },
  {
   "cell_type": "code",
   "execution_count": 15,
   "metadata": {},
   "outputs": [
    {
     "data": {
      "text/plain": [
       "NoneType"
      ]
     },
     "execution_count": 15,
     "metadata": {},
     "output_type": "execute_result"
    }
   ],
   "source": [
    "type(n)"
   ]
  },
  {
   "cell_type": "markdown",
   "metadata": {},
   "source": [
    "## Advanced printing"
   ]
  },
  {
   "cell_type": "code",
   "execution_count": 16,
   "metadata": {},
   "outputs": [
    {
     "name": "stdout",
     "output_type": "stream",
     "text": [
      "Our float value is 4.1. Our int value is 4.\n"
     ]
    }
   ],
   "source": [
    "print \"Our float value is %s. Our int value is %s.\" % (f,i)  #Python is pretty good with strings"
   ]
  },
  {
   "cell_type": "markdown",
   "metadata": {},
   "source": [
    "##Conditional statements in python"
   ]
  },
  {
   "cell_type": "code",
   "execution_count": 17,
   "metadata": {},
   "outputs": [
    {
     "name": "stdout",
     "output_type": "stream",
     "text": [
      "i or f are both greater than 4.\n"
     ]
    }
   ],
   "source": [
    "if i == 1 and f > 4:\n",
    "    print \"The value of i is 1 and f is greater than 4.\"\n",
    "elif i > 4 or f > 4:\n",
    "    print \"i or f are both greater than 4.\"\n",
    "else:\n",
    "    print \"both i and f are less than or equal to 4\"\n"
   ]
  },
  {
   "cell_type": "markdown",
   "metadata": {},
   "source": [
    "## Conditional loops"
   ]
  },
  {
   "cell_type": "code",
   "execution_count": 18,
   "metadata": {},
   "outputs": [
    {
     "name": "stdout",
     "output_type": "stream",
     "text": [
      "[3, 1, 2]\n"
     ]
    }
   ],
   "source": [
    "print l"
   ]
  },
  {
   "cell_type": "code",
   "execution_count": 19,
   "metadata": {},
   "outputs": [
    {
     "name": "stdout",
     "output_type": "stream",
     "text": [
      "3\n",
      "1\n",
      "2\n"
     ]
    }
   ],
   "source": [
    "for e in l:\n",
    "    print e"
   ]
  },
  {
   "cell_type": "markdown",
   "metadata": {},
   "source": [
    "Note that in Python, we don't use {} or other markers to indicate the part of the loop that gets iterated.  Instead, we just indent and align each of the iterated statements with spaces or tabs. (You can use as many as you want, as long as the lines are aligned.)"
   ]
  },
  {
   "cell_type": "code",
   "execution_count": 20,
   "metadata": {},
   "outputs": [
    {
     "name": "stdout",
     "output_type": "stream",
     "text": [
      "6\n",
      "7\n",
      "8\n",
      "9\n"
     ]
    }
   ],
   "source": [
    "counter = 6\n",
    "while counter < 10:\n",
    "    print counter\n",
    "    counter += 1"
   ]
  },
  {
   "cell_type": "markdown",
   "metadata": {
    "collapsed": true
   },
   "source": [
    "# Creating functions in Python\n",
    "\n",
    "Again, we don't use {}, but just indent the lines that are part of the function."
   ]
  },
  {
   "cell_type": "code",
   "execution_count": 10,
   "metadata": {
    "collapsed": true
   },
   "outputs": [],
   "source": [
    "def add2(x):\n",
    "    y = x + 2\n",
    "    return y,x, y+100"
   ]
  },
  {
   "cell_type": "code",
   "execution_count": 8,
   "metadata": {
    "collapsed": true
   },
   "outputs": [],
   "source": [
    "i = 5"
   ]
  },
  {
   "cell_type": "code",
   "execution_count": 11,
   "metadata": {},
   "outputs": [
    {
     "data": {
      "text/plain": [
       "(7, 5, 107)"
      ]
     },
     "execution_count": 11,
     "metadata": {},
     "output_type": "execute_result"
    }
   ],
   "source": [
    "add2(i)"
   ]
  },
  {
   "cell_type": "markdown",
   "metadata": {},
   "source": [
    "We can also define simple functions with lambdas:"
   ]
  },
  {
   "cell_type": "code",
   "execution_count": 13,
   "metadata": {
    "collapsed": true
   },
   "outputs": [],
   "source": [
    "square = lambda x: x*x"
   ]
  },
  {
   "cell_type": "code",
   "execution_count": 14,
   "metadata": {},
   "outputs": [
    {
     "data": {
      "text/plain": [
       "25"
      ]
     },
     "execution_count": 14,
     "metadata": {},
     "output_type": "execute_result"
    }
   ],
   "source": [
    "square(i)"
   ]
  },
  {
   "cell_type": "code",
   "execution_count": 1,
   "metadata": {},
   "outputs": [
    {
     "name": "stdout",
     "output_type": "stream",
     "text": [
      "hello\n"
     ]
    }
   ],
   "source": [
    "print('hello')"
   ]
  },
  {
   "cell_type": "code",
   "execution_count": 2,
   "metadata": {},
   "outputs": [
    {
     "name": "stdout",
     "output_type": "stream",
     "text": [
      "hello\n"
     ]
    }
   ],
   "source": [
    "print \"hello\""
   ]
  },
  {
   "cell_type": "markdown",
   "metadata": {},
   "source": [
    "# Getting started\n",
    "## Just Starting\n",
    "* A few functions\n",
    "* Random"
   ]
  },
  {
   "cell_type": "markdown",
   "metadata": {},
   "source": [
    "## Fire up graphlab"
   ]
  },
  {
   "cell_type": "code",
   "execution_count": 1,
   "metadata": {},
   "outputs": [
    {
     "ename": "ModuleNotFoundError",
     "evalue": "No module named 'graphlab'",
     "output_type": "error",
     "traceback": [
      "\u001b[0;31m---------------------------------------------------------------------------\u001b[0m",
      "\u001b[0;31mModuleNotFoundError\u001b[0m                       Traceback (most recent call last)",
      "\u001b[0;32m<ipython-input-1-986a457431da>\u001b[0m in \u001b[0;36m<module>\u001b[0;34m\u001b[0m\n\u001b[0;32m----> 1\u001b[0;31m \u001b[0;32mimport\u001b[0m \u001b[0mgraphlab\u001b[0m\u001b[0;34m\u001b[0m\u001b[0;34m\u001b[0m\u001b[0m\n\u001b[0m",
      "\u001b[0;31mModuleNotFoundError\u001b[0m: No module named 'graphlab'"
     ]
    }
   ],
   "source": [
    "import graphlab"
   ]
  },
  {
   "cell_type": "code",
   "execution_count": 18,
   "metadata": {},
   "outputs": [
    {
     "data": {
      "text/html": [
       "<pre>Finished parsing file /Users/prashant/Documents/Coursera/nyc-bicycle.csv</pre>"
      ],
      "text/plain": [
       "Finished parsing file /Users/prashant/Documents/Coursera/nyc-bicycle.csv"
      ]
     },
     "metadata": {},
     "output_type": "display_data"
    },
    {
     "data": {
      "text/html": [
       "<pre>Parsing completed. Parsed 100 lines in 0.041047 secs.</pre>"
      ],
      "text/plain": [
       "Parsing completed. Parsed 100 lines in 0.041047 secs."
      ]
     },
     "metadata": {},
     "output_type": "display_data"
    },
    {
     "name": "stdout",
     "output_type": "stream",
     "text": [
      "------------------------------------------------------\n",
      "Inferred types from first 100 line(s) of file as \n",
      "column_type_hints=[int,str,str,float,float,str,float,int,float,float,int]\n",
      "If parsing fails due to incorrect types, you can correct\n",
      "the inferred type list above and pass it to read_csv in\n",
      "the column_type_hints argument\n",
      "------------------------------------------------------\n"
     ]
    },
    {
     "data": {
      "text/html": [
       "<pre>Finished parsing file /Users/prashant/Documents/Coursera/nyc-bicycle.csv</pre>"
      ],
      "text/plain": [
       "Finished parsing file /Users/prashant/Documents/Coursera/nyc-bicycle.csv"
      ]
     },
     "metadata": {},
     "output_type": "display_data"
    },
    {
     "data": {
      "text/html": [
       "<pre>Parsing completed. Parsed 210 lines in 0.009236 secs.</pre>"
      ],
      "text/plain": [
       "Parsing completed. Parsed 210 lines in 0.009236 secs."
      ]
     },
     "metadata": {},
     "output_type": "display_data"
    }
   ],
   "source": [
    "sf = graphlab.SFrame('nyc-bicycle.csv')"
   ]
  },
  {
   "cell_type": "markdown",
   "metadata": {},
   "source": [
    "# Graphlab Canvas"
   ]
  },
  {
   "cell_type": "code",
   "execution_count": 21,
   "metadata": {},
   "outputs": [
    {
     "data": {
      "application/javascript": [
       "$(\"head\").append($(\"<link/>\").attr({\n",
       "  rel:  \"stylesheet\",\n",
       "  type: \"text/css\",\n",
       "  href: \"//cdnjs.cloudflare.com/ajax/libs/font-awesome/4.1.0/css/font-awesome.min.css\"\n",
       "}));\n",
       "$(\"head\").append($(\"<link/>\").attr({\n",
       "  rel:  \"stylesheet\",\n",
       "  type: \"text/css\",\n",
       "  href: \"https://static.turi.com/products/graphlab-create/2.1/canvas/css/canvas.css\"\n",
       "}));\n",
       "\n",
       "            (function(){\n",
       "\n",
       "                var e = null;\n",
       "                if (typeof element == 'undefined') {\n",
       "                    var scripts = document.getElementsByTagName('script');\n",
       "                    var thisScriptTag = scripts[scripts.length-1];\n",
       "                    var parentDiv = thisScriptTag.parentNode;\n",
       "                    e = document.createElement('div');\n",
       "                    parentDiv.appendChild(e);\n",
       "                } else {\n",
       "                    e = element[0];\n",
       "                }\n",
       "\n",
       "                if (typeof requirejs !== 'undefined') {\n",
       "                    // disable load timeout; ipython_app.js is large and can take a while to load.\n",
       "                    requirejs.config({waitSeconds: 0});\n",
       "                }\n",
       "\n",
       "                require(['https://static.turi.com/products/graphlab-create/2.1/canvas/js/ipython_app.js'], function(IPythonApp){\n",
       "                    var app = new IPythonApp();\n",
       "                    app.attachView('sframe','Summary', {\"ipython\": true, \"sketch\": {\"X1\": {\"std\": 60.621090939265244, \"complete\": true, \"min\": 0.0, \"max\": 209.0, \"quantile\": [0.0, 2.0, 4.0, 6.0, 8.0, 10.0, 12.0, 14.0, 16.0, 18.0, 21.0, 23.0, 25.0, 27.0, 29.0, 31.0, 33.0, 35.0, 37.0, 39.0, 42.0, 44.0, 46.0, 48.0, 50.0, 52.0, 54.0, 56.0, 58.0, 60.0, 63.0, 65.0, 67.0, 69.0, 71.0, 73.0, 75.0, 77.0, 79.0, 81.0, 84.0, 86.0, 88.0, 90.0, 92.0, 94.0, 96.0, 98.0, 100.0, 102.0, 105.0, 107.0, 109.0, 111.0, 113.0, 115.0, 117.0, 119.0, 121.0, 123.0, 126.0, 128.0, 130.0, 132.0, 134.0, 136.0, 138.0, 140.0, 142.0, 144.0, 147.0, 149.0, 151.0, 153.0, 155.0, 157.0, 159.0, 161.0, 163.0, 165.0, 168.0, 170.0, 172.0, 174.0, 176.0, 178.0, 180.0, 182.0, 184.0, 186.0, 189.0, 191.0, 193.0, 195.0, 197.0, 199.0, 201.0, 203.0, 205.0, 207.0, 209.0], \"median\": 105.0, \"numeric\": true, \"num_unique\": 210, \"num_undefined\": 0, \"var\": 3674.9166666666665, \"progress\": 1.0, \"size\": 210, \"frequent_items\": {\"0\": {\"frequency\": 1, \"value\": 0}, \"1\": {\"frequency\": 1, \"value\": 1}, \"2\": {\"frequency\": 1, \"value\": 2}, \"3\": {\"frequency\": 1, \"value\": 3}, \"4\": {\"frequency\": 1, \"value\": 4}, \"5\": {\"frequency\": 1, \"value\": 5}, \"6\": {\"frequency\": 1, \"value\": 6}, \"7\": {\"frequency\": 1, \"value\": 7}, \"8\": {\"frequency\": 1, \"value\": 8}, \"9\": {\"frequency\": 1, \"value\": 9}, \"10\": {\"frequency\": 1, \"value\": 10}, \"11\": {\"frequency\": 1, \"value\": 11}, \"12\": {\"frequency\": 1, \"value\": 12}, \"13\": {\"frequency\": 1, \"value\": 13}, \"14\": {\"frequency\": 1, \"value\": 14}, \"15\": {\"frequency\": 1, \"value\": 15}, \"16\": {\"frequency\": 1, \"value\": 16}, \"17\": {\"frequency\": 1, \"value\": 17}, \"18\": {\"frequency\": 1, \"value\": 18}, \"19\": {\"frequency\": 1, \"value\": 19}, \"20\": {\"frequency\": 1, \"value\": 20}, \"21\": {\"frequency\": 1, \"value\": 21}, \"22\": {\"frequency\": 1, \"value\": 22}, \"23\": {\"frequency\": 1, \"value\": 23}, \"24\": {\"frequency\": 1, \"value\": 24}, \"25\": {\"frequency\": 1, \"value\": 25}, \"26\": {\"frequency\": 1, \"value\": 26}, \"27\": {\"frequency\": 1, \"value\": 27}, \"28\": {\"frequency\": 1, \"value\": 28}, \"29\": {\"frequency\": 1, \"value\": 29}, \"30\": {\"frequency\": 1, \"value\": 30}, \"31\": {\"frequency\": 1, \"value\": 31}, \"32\": {\"frequency\": 1, \"value\": 32}, \"33\": {\"frequency\": 1, \"value\": 33}, \"34\": {\"frequency\": 1, \"value\": 34}, \"35\": {\"frequency\": 1, \"value\": 35}, \"36\": {\"frequency\": 1, \"value\": 36}, \"37\": {\"frequency\": 1, \"value\": 37}, \"38\": {\"frequency\": 1, \"value\": 38}, \"39\": {\"frequency\": 1, \"value\": 39}, \"40\": {\"frequency\": 1, \"value\": 40}, \"41\": {\"frequency\": 1, \"value\": 41}, \"42\": {\"frequency\": 1, \"value\": 42}, \"43\": {\"frequency\": 1, \"value\": 43}, \"44\": {\"frequency\": 1, \"value\": 44}, \"45\": {\"frequency\": 1, \"value\": 45}, \"46\": {\"frequency\": 1, \"value\": 46}, \"47\": {\"frequency\": 1, \"value\": 47}, \"48\": {\"frequency\": 1, \"value\": 48}, \"49\": {\"frequency\": 1, \"value\": 49}, \"50\": {\"frequency\": 1, \"value\": 50}, \"51\": {\"frequency\": 1, \"value\": 51}, \"52\": {\"frequency\": 1, \"value\": 52}, \"53\": {\"frequency\": 1, \"value\": 53}, \"54\": {\"frequency\": 1, \"value\": 54}, \"55\": {\"frequency\": 1, \"value\": 55}, \"56\": {\"frequency\": 1, \"value\": 56}, \"57\": {\"frequency\": 1, \"value\": 57}, \"58\": {\"frequency\": 1, \"value\": 58}, \"59\": {\"frequency\": 1, \"value\": 59}, \"60\": {\"frequency\": 1, \"value\": 60}, \"61\": {\"frequency\": 1, \"value\": 61}, \"62\": {\"frequency\": 1, \"value\": 62}, \"63\": {\"frequency\": 1, \"value\": 63}, \"64\": {\"frequency\": 1, \"value\": 64}, \"65\": {\"frequency\": 1, \"value\": 65}, \"66\": {\"frequency\": 1, \"value\": 66}, \"67\": {\"frequency\": 1, \"value\": 67}, \"68\": {\"frequency\": 1, \"value\": 68}, \"69\": {\"frequency\": 1, \"value\": 69}, \"70\": {\"frequency\": 1, \"value\": 70}, \"71\": {\"frequency\": 1, \"value\": 71}, \"72\": {\"frequency\": 1, \"value\": 72}, \"73\": {\"frequency\": 1, \"value\": 73}, \"74\": {\"frequency\": 1, \"value\": 74}, \"75\": {\"frequency\": 1, \"value\": 75}, \"76\": {\"frequency\": 1, \"value\": 76}, \"77\": {\"frequency\": 1, \"value\": 77}, \"78\": {\"frequency\": 1, \"value\": 78}, \"79\": {\"frequency\": 1, \"value\": 79}, \"80\": {\"frequency\": 1, \"value\": 80}, \"81\": {\"frequency\": 1, \"value\": 81}, \"82\": {\"frequency\": 1, \"value\": 82}, \"83\": {\"frequency\": 1, \"value\": 83}, \"84\": {\"frequency\": 1, \"value\": 84}, \"85\": {\"frequency\": 1, \"value\": 85}, \"86\": {\"frequency\": 1, \"value\": 86}, \"87\": {\"frequency\": 1, \"value\": 87}, \"88\": {\"frequency\": 1, \"value\": 88}, \"89\": {\"frequency\": 1, \"value\": 89}, \"90\": {\"frequency\": 1, \"value\": 90}, \"91\": {\"frequency\": 1, \"value\": 91}, \"92\": {\"frequency\": 1, \"value\": 92}, \"93\": {\"frequency\": 1, \"value\": 93}, \"94\": {\"frequency\": 1, \"value\": 94}, \"95\": {\"frequency\": 1, \"value\": 95}, \"96\": {\"frequency\": 1, \"value\": 96}, \"97\": {\"frequency\": 1, \"value\": 97}, \"98\": {\"frequency\": 1, \"value\": 98}, \"99\": {\"frequency\": 1, \"value\": 99}, \"100\": {\"frequency\": 1, \"value\": 100}, \"101\": {\"frequency\": 1, \"value\": 101}, \"102\": {\"frequency\": 1, \"value\": 102}, \"103\": {\"frequency\": 1, \"value\": 103}, \"104\": {\"frequency\": 1, \"value\": 104}, \"105\": {\"frequency\": 1, \"value\": 105}, \"106\": {\"frequency\": 1, \"value\": 106}, \"107\": {\"frequency\": 1, \"value\": 107}, \"108\": {\"frequency\": 1, \"value\": 108}, \"109\": {\"frequency\": 1, \"value\": 109}, \"110\": {\"frequency\": 1, \"value\": 110}, \"111\": {\"frequency\": 1, \"value\": 111}, \"112\": {\"frequency\": 1, \"value\": 112}, \"113\": {\"frequency\": 1, \"value\": 113}, \"114\": {\"frequency\": 1, \"value\": 114}, \"115\": {\"frequency\": 1, \"value\": 115}, \"116\": {\"frequency\": 1, \"value\": 116}, \"117\": {\"frequency\": 1, \"value\": 117}, \"118\": {\"frequency\": 1, \"value\": 118}, \"119\": {\"frequency\": 1, \"value\": 119}, \"120\": {\"frequency\": 1, \"value\": 120}, \"121\": {\"frequency\": 1, \"value\": 121}, \"122\": {\"frequency\": 1, \"value\": 122}, \"123\": {\"frequency\": 1, \"value\": 123}, \"124\": {\"frequency\": 1, \"value\": 124}, \"125\": {\"frequency\": 1, \"value\": 125}, \"126\": {\"frequency\": 1, \"value\": 126}, \"127\": {\"frequency\": 1, \"value\": 127}, \"128\": {\"frequency\": 1, \"value\": 128}, \"129\": {\"frequency\": 1, \"value\": 129}, \"130\": {\"frequency\": 1, \"value\": 130}, \"131\": {\"frequency\": 1, \"value\": 131}, \"132\": {\"frequency\": 1, \"value\": 132}, \"133\": {\"frequency\": 1, \"value\": 133}, \"134\": {\"frequency\": 1, \"value\": 134}, \"135\": {\"frequency\": 1, \"value\": 135}, \"136\": {\"frequency\": 1, \"value\": 136}, \"137\": {\"frequency\": 1, \"value\": 137}, \"138\": {\"frequency\": 1, \"value\": 138}, \"139\": {\"frequency\": 1, \"value\": 139}, \"140\": {\"frequency\": 1, \"value\": 140}, \"141\": {\"frequency\": 1, \"value\": 141}, \"142\": {\"frequency\": 1, \"value\": 142}, \"143\": {\"frequency\": 1, \"value\": 143}, \"144\": {\"frequency\": 1, \"value\": 144}, \"145\": {\"frequency\": 1, \"value\": 145}, \"146\": {\"frequency\": 1, \"value\": 146}, \"147\": {\"frequency\": 1, \"value\": 147}, \"148\": {\"frequency\": 1, \"value\": 148}, \"149\": {\"frequency\": 1, \"value\": 149}, \"150\": {\"frequency\": 1, \"value\": 150}, \"151\": {\"frequency\": 1, \"value\": 151}, \"152\": {\"frequency\": 1, \"value\": 152}, \"153\": {\"frequency\": 1, \"value\": 153}, \"154\": {\"frequency\": 1, \"value\": 154}, \"155\": {\"frequency\": 1, \"value\": 155}, \"156\": {\"frequency\": 1, \"value\": 156}, \"157\": {\"frequency\": 1, \"value\": 157}, \"158\": {\"frequency\": 1, \"value\": 158}, \"159\": {\"frequency\": 1, \"value\": 159}, \"160\": {\"frequency\": 1, \"value\": 160}, \"161\": {\"frequency\": 1, \"value\": 161}, \"162\": {\"frequency\": 1, \"value\": 162}, \"163\": {\"frequency\": 1, \"value\": 163}, \"164\": {\"frequency\": 1, \"value\": 164}, \"165\": {\"frequency\": 1, \"value\": 165}, \"166\": {\"frequency\": 1, \"value\": 166}, \"167\": {\"frequency\": 1, \"value\": 167}, \"168\": {\"frequency\": 1, \"value\": 168}, \"169\": {\"frequency\": 1, \"value\": 169}, \"170\": {\"frequency\": 1, \"value\": 170}, \"171\": {\"frequency\": 1, \"value\": 171}, \"172\": {\"frequency\": 1, \"value\": 172}, \"173\": {\"frequency\": 1, \"value\": 173}, \"174\": {\"frequency\": 1, \"value\": 174}, \"175\": {\"frequency\": 1, \"value\": 175}, \"176\": {\"frequency\": 1, \"value\": 176}, \"177\": {\"frequency\": 1, \"value\": 177}, \"178\": {\"frequency\": 1, \"value\": 178}, \"179\": {\"frequency\": 1, \"value\": 179}, \"180\": {\"frequency\": 1, \"value\": 180}, \"181\": {\"frequency\": 1, \"value\": 181}, \"182\": {\"frequency\": 1, \"value\": 182}, \"183\": {\"frequency\": 1, \"value\": 183}, \"184\": {\"frequency\": 1, \"value\": 184}, \"185\": {\"frequency\": 1, \"value\": 185}, \"186\": {\"frequency\": 1, \"value\": 186}, \"187\": {\"frequency\": 1, \"value\": 187}, \"188\": {\"frequency\": 1, \"value\": 188}, \"189\": {\"frequency\": 1, \"value\": 189}, \"190\": {\"frequency\": 1, \"value\": 190}, \"191\": {\"frequency\": 1, \"value\": 191}, \"192\": {\"frequency\": 1, \"value\": 192}, \"193\": {\"frequency\": 1, \"value\": 193}, \"194\": {\"frequency\": 1, \"value\": 194}, \"195\": {\"frequency\": 1, \"value\": 195}, \"196\": {\"frequency\": 1, \"value\": 196}, \"197\": {\"frequency\": 1, \"value\": 197}, \"198\": {\"frequency\": 1, \"value\": 198}, \"199\": {\"frequency\": 1, \"value\": 199}, \"200\": {\"frequency\": 1, \"value\": 200}, \"201\": {\"frequency\": 1, \"value\": 201}, \"202\": {\"frequency\": 1, \"value\": 202}, \"203\": {\"frequency\": 1, \"value\": 203}, \"204\": {\"frequency\": 1, \"value\": 204}, \"205\": {\"frequency\": 1, \"value\": 205}, \"206\": {\"frequency\": 1, \"value\": 206}, \"207\": {\"frequency\": 1, \"value\": 207}, \"208\": {\"frequency\": 1, \"value\": 208}, \"209\": {\"frequency\": 1, \"value\": 209}}, \"mean\": 104.5}, \"Brooklyn Bridge\": {\"std\": 978.8987173803473, \"complete\": true, \"min\": 504.0, \"max\": 3871.0, \"quantile\": [504.0, 504.0, 504.0, 504.0, 521.0, 521.0, 521.0, 526.0, 526.0, 526.0, 827.0, 827.0, 827.0, 827.0, 1045.0, 1045.0, 1045.0, 1276.0, 1276.0, 1276.0, 1416.0, 1416.0, 1416.0, 1416.0, 1447.0, 1447.0, 1447.0, 1704.0, 1704.0, 1704.0, 1885.0, 1885.0, 1885.0, 1885.0, 1982.0, 1982.0, 1982.0, 1997.0, 1997.0, 1997.0, 2005.0, 2005.0, 2005.0, 2005.0, 2055.0, 2055.0, 2055.0, 2375.0, 2375.0, 2375.0, 2384.0, 2384.0, 2384.0, 2384.0, 2486.0, 2486.0, 2486.0, 2770.0, 2770.0, 2770.0, 2798.0, 2798.0, 2798.0, 2798.0, 2840.0, 2840.0, 2840.0, 2861.0, 2861.0, 2861.0, 2975.0, 2975.0, 2975.0, 2975.0, 3147.0, 3147.0, 3147.0, 3199.0, 3199.0, 3199.0, 3343.0, 3343.0, 3343.0, 3343.0, 3436.0, 3436.0, 3436.0, 3450.0, 3450.0, 3450.0, 3463.0, 3463.0, 3463.0, 3463.0, 3501.0, 3501.0, 3501.0, 3871.0, 3871.0, 3871.0, 3871.0], \"median\": 2384.0, \"numeric\": true, \"num_unique\": 30, \"num_undefined\": 0, \"var\": 958242.698888889, \"progress\": 1.0, \"size\": 210, \"frequent_items\": {\"3463.0\": {\"frequency\": 7, \"value\": 3463.0}, \"1416.0\": {\"frequency\": 7, \"value\": 1416.0}, \"521.0\": {\"frequency\": 7, \"value\": 521.0}, \"526.0\": {\"frequency\": 7, \"value\": 526.0}, \"3501.0\": {\"frequency\": 7, \"value\": 3501.0}, \"1045.0\": {\"frequency\": 7, \"value\": 1045.0}, \"2840.0\": {\"frequency\": 7, \"value\": 2840.0}, \"3871.0\": {\"frequency\": 7, \"value\": 3871.0}, \"1447.0\": {\"frequency\": 7, \"value\": 1447.0}, \"1704.0\": {\"frequency\": 7, \"value\": 1704.0}, \"2055.0\": {\"frequency\": 7, \"value\": 2055.0}, \"2861.0\": {\"frequency\": 7, \"value\": 2861.0}, \"2486.0\": {\"frequency\": 7, \"value\": 2486.0}, \"2975.0\": {\"frequency\": 7, \"value\": 2975.0}, \"1982.0\": {\"frequency\": 7, \"value\": 1982.0}, \"2375.0\": {\"frequency\": 7, \"value\": 2375.0}, \"3147.0\": {\"frequency\": 7, \"value\": 3147.0}, \"1997.0\": {\"frequency\": 7, \"value\": 1997.0}, \"2384.0\": {\"frequency\": 7, \"value\": 2384.0}, \"2770.0\": {\"frequency\": 7, \"value\": 2770.0}, \"2005.0\": {\"frequency\": 7, \"value\": 2005.0}, \"3343.0\": {\"frequency\": 7, \"value\": 3343.0}, \"1885.0\": {\"frequency\": 7, \"value\": 1885.0}, \"827.0\": {\"frequency\": 7, \"value\": 827.0}, \"3436.0\": {\"frequency\": 7, \"value\": 3436.0}, \"2798.0\": {\"frequency\": 7, \"value\": 2798.0}, \"504.0\": {\"frequency\": 7, \"value\": 504.0}, \"3450.0\": {\"frequency\": 7, \"value\": 3450.0}, \"1276.0\": {\"frequency\": 7, \"value\": 1276.0}, \"3199.0\": {\"frequency\": 7, \"value\": 3199.0}}, \"mean\": 2269.633333333333}, \"Precipitation\": {\"complete\": true, \"numeric\": false, \"num_unique\": 10, \"num_undefined\": 0, \"progress\": 1.0, \"frequent_items\": {\"0.09\": {\"frequency\": 21, \"value\": \"0.09\"}, \"0.24\": {\"frequency\": 7, \"value\": \"0.24\"}, \"0.01\": {\"frequency\": 21, \"value\": \"0.01\"}, \"0.05\": {\"frequency\": 7, \"value\": \"0.05\"}, \"0.15\": {\"frequency\": 7, \"value\": \"0.15\"}, \"0\": {\"frequency\": 119, \"value\": \"0\"}, \"0.16\": {\"frequency\": 7, \"value\": \"0.16\"}, \"T\": {\"frequency\": 7, \"value\": \"T\"}, \"0.2\": {\"frequency\": 7, \"value\": \"0.2\"}, \"0.47 (S)\": {\"frequency\": 7, \"value\": \"0.47 (S)\"}}, \"size\": 210}, \"Manhattan Bridge\": {\"std\": 1700.667628380755, \"complete\": true, \"min\": 997.0, \"max\": 6951.0, \"quantile\": [997.0, 997.0, 997.0, 997.0, 1067.0, 1067.0, 1067.0, 1232.0, 1232.0, 1232.0, 1646.0, 1646.0, 1646.0, 1646.0, 2178.0, 2178.0, 2178.0, 2387.0, 2387.0, 2387.0, 2581.0, 2581.0, 2581.0, 2581.0, 2617.0, 2617.0, 2617.0, 3126.0, 3126.0, 3126.0, 3276.0, 3276.0, 3276.0, 3276.0, 3329.0, 3329.0, 3329.0, 3455.0, 3455.0, 3455.0, 3520.0, 3520.0, 3520.0, 3520.0, 3791.0, 3791.0, 3791.0, 4152.0, 4152.0, 4152.0, 4178.0, 4178.0, 4178.0, 4178.0, 4316.0, 4316.0, 4316.0, 4650.0, 4650.0, 4650.0, 4907.0, 4907.0, 4907.0, 4907.0, 4952.0, 4952.0, 4952.0, 4969.0, 4969.0, 4969.0, 5072.0, 5072.0, 5072.0, 5072.0, 5309.0, 5309.0, 5309.0, 5395.0, 5395.0, 5395.0, 5606.0, 5606.0, 5606.0, 5606.0, 5978.0, 5978.0, 5978.0, 6452.0, 6452.0, 6452.0, 6574.0, 6574.0, 6574.0, 6574.0, 6823.0, 6823.0, 6823.0, 6951.0, 6951.0, 6951.0, 6951.0], \"median\": 4178.0, \"numeric\": true, \"num_unique\": 30, \"num_undefined\": 0, \"var\": 2892270.382222222, \"progress\": 1.0, \"size\": 210, \"frequent_items\": {\"3329\": {\"frequency\": 7, \"value\": 3329}, \"2178\": {\"frequency\": 7, \"value\": 2178}, \"1067\": {\"frequency\": 7, \"value\": 1067}, \"5395\": {\"frequency\": 7, \"value\": 5395}, \"2581\": {\"frequency\": 7, \"value\": 2581}, \"6823\": {\"frequency\": 7, \"value\": 6823}, \"4650\": {\"frequency\": 7, \"value\": 4650}, \"4907\": {\"frequency\": 7, \"value\": 4907}, \"6574\": {\"frequency\": 7, \"value\": 6574}, \"6452\": {\"frequency\": 7, \"value\": 6452}, \"3126\": {\"frequency\": 7, \"value\": 3126}, \"4152\": {\"frequency\": 7, \"value\": 4152}, \"2617\": {\"frequency\": 7, \"value\": 2617}, \"5309\": {\"frequency\": 7, \"value\": 5309}, \"3520\": {\"frequency\": 7, \"value\": 3520}, \"3276\": {\"frequency\": 7, \"value\": 3276}, \"3791\": {\"frequency\": 7, \"value\": 3791}, \"5072\": {\"frequency\": 7, \"value\": 5072}, \"4178\": {\"frequency\": 7, \"value\": 4178}, \"2387\": {\"frequency\": 7, \"value\": 2387}, \"4952\": {\"frequency\": 7, \"value\": 4952}, \"5978\": {\"frequency\": 7, \"value\": 5978}, \"4316\": {\"frequency\": 7, \"value\": 4316}, \"1232\": {\"frequency\": 7, \"value\": 1232}, \"997\": {\"frequency\": 7, \"value\": 997}, \"5606\": {\"frequency\": 7, \"value\": 5606}, \"4969\": {\"frequency\": 7, \"value\": 4969}, \"6951\": {\"frequency\": 7, \"value\": 6951}, \"1646\": {\"frequency\": 7, \"value\": 1646}, \"3455\": {\"frequency\": 7, \"value\": 3455}}, \"mean\": 4049.5333333333333}, \"Williamsburg Bridge\": {\"std\": 1809.7152028856794, \"complete\": true, \"min\": 1440.0, \"max\": 7834.0, \"quantile\": [1440.0, 1440.0, 1440.0, 1440.0, 1507.0, 1507.0, 1507.0, 1695.0, 1695.0, 1695.0, 2565.0, 2565.0, 2565.0, 2565.0, 2762.0, 2762.0, 2762.0, 3081.0, 3081.0, 3081.0, 3132.0, 3132.0, 3132.0, 3132.0, 3282.0, 3282.0, 3282.0, 3856.0, 3856.0, 3856.0, 4113.0, 4113.0, 4113.0, 4113.0, 4115.0, 4115.0, 4115.0, 4334.0, 4334.0, 4334.0, 4559.0, 4559.0, 4559.0, 4559.0, 4856.0, 4856.0, 4856.0, 5053.0, 5053.0, 5053.0, 5335.0, 5335.0, 5335.0, 5335.0, 5336.0, 5336.0, 5336.0, 5624.0, 5624.0, 5624.0, 5675.0, 5675.0, 5675.0, 5675.0, 5816.0, 5816.0, 5816.0, 5867.0, 5867.0, 5867.0, 5995.0, 5995.0, 5995.0, 5995.0, 6030.0, 6030.0, 6030.0, 6093.0, 6093.0, 6093.0, 6577.0, 6577.0, 6577.0, 6577.0, 6845.0, 6845.0, 6845.0, 7426.0, 7426.0, 7426.0, 7432.0, 7432.0, 7432.0, 7432.0, 7639.0, 7639.0, 7639.0, 7834.0, 7834.0, 7834.0, 7834.0], \"median\": 5335.0, \"numeric\": true, \"num_unique\": 30, \"num_undefined\": 0, \"var\": 3275069.115555556, \"progress\": 1.0, \"size\": 210, \"frequent_items\": {\"7426.0\": {\"frequency\": 7, \"value\": 7426.0}, \"5995.0\": {\"frequency\": 7, \"value\": 5995.0}, \"2565.0\": {\"frequency\": 7, \"value\": 2565.0}, \"7432.0\": {\"frequency\": 7, \"value\": 7432.0}, \"3081.0\": {\"frequency\": 7, \"value\": 3081.0}, \"5335.0\": {\"frequency\": 7, \"value\": 5335.0}, \"6030.0\": {\"frequency\": 7, \"value\": 6030.0}, \"3856.0\": {\"frequency\": 7, \"value\": 3856.0}, \"4113.0\": {\"frequency\": 7, \"value\": 4113.0}, \"4115.0\": {\"frequency\": 7, \"value\": 4115.0}, \"7834.0\": {\"frequency\": 7, \"value\": 7834.0}, \"1695.0\": {\"frequency\": 7, \"value\": 1695.0}, \"1440.0\": {\"frequency\": 7, \"value\": 1440.0}, \"5675.0\": {\"frequency\": 7, \"value\": 5675.0}, \"6577.0\": {\"frequency\": 7, \"value\": 6577.0}, \"5816.0\": {\"frequency\": 7, \"value\": 5816.0}, \"3132.0\": {\"frequency\": 7, \"value\": 3132.0}, \"6845.0\": {\"frequency\": 7, \"value\": 6845.0}, \"2762.0\": {\"frequency\": 7, \"value\": 2762.0}, \"6093.0\": {\"frequency\": 7, \"value\": 6093.0}, \"4559.0\": {\"frequency\": 7, \"value\": 4559.0}, \"4856.0\": {\"frequency\": 7, \"value\": 4856.0}, \"3282.0\": {\"frequency\": 7, \"value\": 3282.0}, \"7639.0\": {\"frequency\": 7, \"value\": 7639.0}, \"5336.0\": {\"frequency\": 7, \"value\": 5336.0}, \"1507.0\": {\"frequency\": 7, \"value\": 1507.0}, \"5867.0\": {\"frequency\": 7, \"value\": 5867.0}, \"4334.0\": {\"frequency\": 7, \"value\": 4334.0}, \"5053.0\": {\"frequency\": 7, \"value\": 5053.0}, \"5624.0\": {\"frequency\": 7, \"value\": 5624.0}}, \"mean\": 4862.466666666666}, \"Date\": {\"complete\": true, \"numeric\": false, \"num_unique\": 30, \"num_undefined\": 0, \"progress\": 1.0, \"frequent_items\": {\"2016-04-06 00:00:00\": {\"frequency\": 7, \"value\": \"2016-04-06 ...\"}, \"2016-04-11 00:00:00\": {\"frequency\": 7, \"value\": \"2016-04-11 ...\"}, \"2016-04-15 00:00:00\": {\"frequency\": 7, \"value\": \"2016-04-15 ...\"}, \"2016-04-12 00:00:00\": {\"frequency\": 7, \"value\": \"2016-04-12 ...\"}, \"2016-04-18 00:00:00\": {\"frequency\": 7, \"value\": \"2016-04-18 ...\"}, \"2016-04-14 00:00:00\": {\"frequency\": 7, \"value\": \"2016-04-14 ...\"}, \"2016-04-26 00:00:00\": {\"frequency\": 7, \"value\": \"2016-04-26 ...\"}, \"2016-04-09 00:00:00\": {\"frequency\": 7, \"value\": \"2016-04-09 ...\"}, \"2016-04-17 00:00:00\": {\"frequency\": 7, \"value\": \"2016-04-17 ...\"}, \"2016-04-03 00:00:00\": {\"frequency\": 7, \"value\": \"2016-04-03 ...\"}, \"2016-04-10 00:00:00\": {\"frequency\": 7, \"value\": \"2016-04-10 ...\"}, \"2016-04-16 00:00:00\": {\"frequency\": 7, \"value\": \"2016-04-16 ...\"}, \"2016-04-19 00:00:00\": {\"frequency\": 7, \"value\": \"2016-04-19 ...\"}, \"2016-04-02 00:00:00\": {\"frequency\": 7, \"value\": \"2016-04-02 ...\"}, \"2016-04-05 00:00:00\": {\"frequency\": 7, \"value\": \"2016-04-05 ...\"}, \"2016-04-24 00:00:00\": {\"frequency\": 7, \"value\": \"2016-04-24 ...\"}, \"2016-04-20 00:00:00\": {\"frequency\": 7, \"value\": \"2016-04-20 ...\"}, \"2016-04-27 00:00:00\": {\"frequency\": 7, \"value\": \"2016-04-27 ...\"}, \"2016-04-07 00:00:00\": {\"frequency\": 7, \"value\": \"2016-04-07 ...\"}, \"2016-04-29 00:00:00\": {\"frequency\": 7, \"value\": \"2016-04-29 ...\"}, \"2016-04-04 00:00:00\": {\"frequency\": 7, \"value\": \"2016-04-04 ...\"}, \"2016-04-01 00:00:00\": {\"frequency\": 7, \"value\": \"2016-04-01 ...\"}, \"2016-04-21 00:00:00\": {\"frequency\": 7, \"value\": \"2016-04-21 ...\"}, \"2016-04-13 00:00:00\": {\"frequency\": 7, \"value\": \"2016-04-13 ...\"}, \"2016-04-30 00:00:00\": {\"frequency\": 7, \"value\": \"2016-04-30 ...\"}, \"2016-04-08 00:00:00\": {\"frequency\": 7, \"value\": \"2016-04-08 ...\"}, \"2016-04-28 00:00:00\": {\"frequency\": 7, \"value\": \"2016-04-28 ...\"}, \"2016-04-23 00:00:00\": {\"frequency\": 7, \"value\": \"2016-04-23 ...\"}, \"2016-04-22 00:00:00\": {\"frequency\": 7, \"value\": \"2016-04-22 ...\"}, \"2016-04-25 00:00:00\": {\"frequency\": 7, \"value\": \"2016-04-25 ...\"}}, \"size\": 210}, \"Queensboro Bridge\": {\"std\": 1096.6340238302942, \"complete\": true, \"min\": 1306.0, \"max\": 5032.0, \"quantile\": [1306.0, 1306.0, 1306.0, 1306.0, 1307.0, 1307.0, 1307.0, 1502.0, 1502.0, 1502.0, 1884.0, 1884.0, 1884.0, 1884.0, 2082.0, 2082.0, 2082.0, 2160.0, 2160.0, 2160.0, 2357.0, 2357.0, 2357.0, 2357.0, 2457.0, 2457.0, 2457.0, 2552.0, 2552.0, 2552.0, 2849.0, 2849.0, 2849.0, 2849.0, 2929.0, 2929.0, 2929.0, 3182.0, 3182.0, 3182.0, 3194.0, 3194.0, 3194.0, 3194.0, 3239.0, 3239.0, 3239.0, 3348.0, 3348.0, 3348.0, 3606.0, 3606.0, 3606.0, 3606.0, 3657.0, 3657.0, 3657.0, 3862.0, 3862.0, 3862.0, 3912.0, 3912.0, 3912.0, 3912.0, 3957.0, 3957.0, 3957.0, 4051.0, 4051.0, 4051.0, 4115.0, 4115.0, 4115.0, 4115.0, 4192.0, 4192.0, 4192.0, 4197.0, 4197.0, 4197.0, 4388.0, 4388.0, 4388.0, 4388.0, 4564.0, 4564.0, 4564.0, 4813.0, 4813.0, 4813.0, 4928.0, 4928.0, 4928.0, 4928.0, 4964.0, 4964.0, 4964.0, 5032.0, 5032.0, 5032.0, 5032.0], \"median\": 3606.0, \"numeric\": true, \"num_unique\": 30, \"num_undefined\": 0, \"var\": 1202606.1822222222, \"progress\": 1.0, \"size\": 210, \"frequent_items\": {\"3606.0\": {\"frequency\": 7, \"value\": 3606.0}, \"4115.0\": {\"frequency\": 7, \"value\": 4115.0}, \"3348.0\": {\"frequency\": 7, \"value\": 3348.0}, \"3862.0\": {\"frequency\": 7, \"value\": 3862.0}, \"2457.0\": {\"frequency\": 7, \"value\": 2457.0}, \"1306.0\": {\"frequency\": 7, \"value\": 1306.0}, \"1307.0\": {\"frequency\": 7, \"value\": 1307.0}, \"2849.0\": {\"frequency\": 7, \"value\": 2849.0}, \"2082.0\": {\"frequency\": 7, \"value\": 2082.0}, \"4388.0\": {\"frequency\": 7, \"value\": 4388.0}, \"3239.0\": {\"frequency\": 7, \"value\": 3239.0}, \"5032.0\": {\"frequency\": 7, \"value\": 5032.0}, \"2357.0\": {\"frequency\": 7, \"value\": 2357.0}, \"4928.0\": {\"frequency\": 7, \"value\": 4928.0}, \"3912.0\": {\"frequency\": 7, \"value\": 3912.0}, \"3657.0\": {\"frequency\": 7, \"value\": 3657.0}, \"4813.0\": {\"frequency\": 7, \"value\": 4813.0}, \"4051.0\": {\"frequency\": 7, \"value\": 4051.0}, \"4564.0\": {\"frequency\": 7, \"value\": 4564.0}, \"1884.0\": {\"frequency\": 7, \"value\": 1884.0}, \"1502.0\": {\"frequency\": 7, \"value\": 1502.0}, \"4192.0\": {\"frequency\": 7, \"value\": 4192.0}, \"4964.0\": {\"frequency\": 7, \"value\": 4964.0}, \"4197.0\": {\"frequency\": 7, \"value\": 4197.0}, \"3182.0\": {\"frequency\": 7, \"value\": 3182.0}, \"2160.0\": {\"frequency\": 7, \"value\": 2160.0}, \"2929.0\": {\"frequency\": 7, \"value\": 2929.0}, \"3957.0\": {\"frequency\": 7, \"value\": 3957.0}, \"2552.0\": {\"frequency\": 7, \"value\": 2552.0}, \"3194.0\": {\"frequency\": 7, \"value\": 3194.0}}, \"mean\": 3352.866666666666}, \"Total\": {\"std\": 5555.897735739923, \"complete\": true, \"min\": 4335.0, \"max\": 23318.0, \"quantile\": [4335.0, 4335.0, 4335.0, 4335.0, 4510.0, 4510.0, 4510.0, 4759.0, 4759.0, 4759.0, 6922.0, 6922.0, 6922.0, 6922.0, 8067.0, 8067.0, 8067.0, 9126.0, 9126.0, 9126.0, 9471.0, 9471.0, 9471.0, 9471.0, 9596.0, 9596.0, 9596.0, 11497.0, 11497.0, 11497.0, 11919.0, 11919.0, 11919.0, 11919.0, 12744.0, 12744.0, 12744.0, 13005.0, 13005.0, 13005.0, 13312.0, 13312.0, 13312.0, 13312.0, 13426.0, 13426.0, 13426.0, 14954.0, 14954.0, 14954.0, 15631.0, 15631.0, 15631.0, 15631.0, 16375.0, 16375.0, 16375.0, 16740.0, 16740.0, 16740.0, 17432.0, 17432.0, 17432.0, 17432.0, 17570.0, 17570.0, 17570.0, 17837.0, 17837.0, 17837.0, 18180.0, 18180.0, 18180.0, 18180.0, 18315.0, 18315.0, 18315.0, 18422.0, 18422.0, 18422.0, 19914.0, 19914.0, 19914.0, 19914.0, 20850.0, 20850.0, 20850.0, 22127.0, 22127.0, 22127.0, 22591.0, 22591.0, 22591.0, 22591.0, 23090.0, 23090.0, 23090.0, 23318.0, 23318.0, 23318.0, 23318.0], \"median\": 15631.0, \"numeric\": true, \"num_unique\": 30, \"num_undefined\": 0, \"var\": 30867999.65, \"progress\": 1.0, \"size\": 210, \"frequent_items\": {\"13312\": {\"frequency\": 7, \"value\": 13312}, \"8067\": {\"frequency\": 7, \"value\": 8067}, \"18180\": {\"frequency\": 7, \"value\": 18180}, \"6922\": {\"frequency\": 7, \"value\": 6922}, \"18315\": {\"frequency\": 7, \"value\": 18315}, \"11919\": {\"frequency\": 7, \"value\": 11919}, \"23318\": {\"frequency\": 7, \"value\": 23318}, \"4759\": {\"frequency\": 7, \"value\": 4759}, \"17432\": {\"frequency\": 7, \"value\": 17432}, \"22127\": {\"frequency\": 7, \"value\": 22127}, \"4510\": {\"frequency\": 7, \"value\": 4510}, \"17570\": {\"frequency\": 7, \"value\": 17570}, \"9126\": {\"frequency\": 7, \"value\": 9126}, \"17837\": {\"frequency\": 7, \"value\": 17837}, \"23090\": {\"frequency\": 7, \"value\": 23090}, \"22591\": {\"frequency\": 7, \"value\": 22591}, \"12744\": {\"frequency\": 7, \"value\": 12744}, \"19914\": {\"frequency\": 7, \"value\": 19914}, \"13005\": {\"frequency\": 7, \"value\": 13005}, \"15631\": {\"frequency\": 7, \"value\": 15631}, \"16740\": {\"frequency\": 7, \"value\": 16740}, \"11497\": {\"frequency\": 7, \"value\": 11497}, \"14954\": {\"frequency\": 7, \"value\": 14954}, \"20850\": {\"frequency\": 7, \"value\": 20850}, \"4335\": {\"frequency\": 7, \"value\": 4335}, \"13426\": {\"frequency\": 7, \"value\": 13426}, \"18422\": {\"frequency\": 7, \"value\": 18422}, \"16375\": {\"frequency\": 7, \"value\": 16375}, \"9596\": {\"frequency\": 7, \"value\": 9596}, \"9471\": {\"frequency\": 7, \"value\": 9471}}, \"mean\": 14534.5}, \"High Temp (\\u00b0F)\": {\"std\": 11.156564584733657, \"complete\": true, \"min\": 39.9, \"max\": 81.0, \"quantile\": [39.9, 39.9, 39.9, 39.9, 42.1, 42.1, 42.1, 43.0, 43.0, 43.0, 44.1, 44.1, 44.1, 44.1, 45.0, 45.0, 45.0, 46.9, 46.9, 46.9, 48.9, 48.9, 48.9, 48.9, 55.0, 55.0, 55.0, 57.0, 57.0, 57.0, 57.0, 57.0, 57.0, 57.0, 57.0, 57.0, 57.0, 57.0, 57.0, 57.0, 57.9, 57.9, 57.9, 57.9, 60.1, 60.1, 60.1, 62.1, 62.1, 62.1, 62.1, 62.1, 62.1, 62.1, 62.1, 62.1, 62.1, 64.0, 64.0, 64.0, 64.0, 64.0, 64.0, 64.0, 66.0, 66.0, 66.0, 66.9, 66.9, 66.9, 68.0, 68.0, 68.0, 68.0, 68.0, 68.0, 68.0, 70.0, 70.0, 70.0, 71.1, 71.1, 71.1, 71.1, 71.1, 71.1, 71.1, 73.9, 73.9, 73.9, 78.1, 78.1, 78.1, 78.1, 78.1, 78.1, 78.1, 81.0, 81.0, 81.0, 81.0], \"median\": 62.1, \"numeric\": true, \"num_unique\": 21, \"num_undefined\": 0, \"var\": 124.46893333333327, \"progress\": 1.0, \"size\": 210, \"frequent_items\": {\"64.0\": {\"frequency\": 14, \"value\": 64.0}, \"57.9\": {\"frequency\": 7, \"value\": 57.9}, \"66.0\": {\"frequency\": 7, \"value\": 66.0}, \"46.9\": {\"frequency\": 7, \"value\": 46.9}, \"73.9\": {\"frequency\": 7, \"value\": 73.9}, \"66.9\": {\"frequency\": 7, \"value\": 66.9}, \"44.1\": {\"frequency\": 7, \"value\": 44.1}, \"48.9\": {\"frequency\": 7, \"value\": 48.9}, \"43.0\": {\"frequency\": 7, \"value\": 43.0}, \"39.9\": {\"frequency\": 7, \"value\": 39.9}, \"45.0\": {\"frequency\": 7, \"value\": 45.0}, \"81.0\": {\"frequency\": 7, \"value\": 81.0}, \"42.1\": {\"frequency\": 7, \"value\": 42.1}, \"57.0\": {\"frequency\": 28, \"value\": 57.0}, \"62.1\": {\"frequency\": 21, \"value\": 62.1}, \"60.1\": {\"frequency\": 7, \"value\": 60.1}, \"71.1\": {\"frequency\": 14, \"value\": 71.1}, \"78.1\": {\"frequency\": 14, \"value\": 78.1}, \"70.0\": {\"frequency\": 7, \"value\": 70.0}, \"55.0\": {\"frequency\": 7, \"value\": 55.0}, \"68.0\": {\"frequency\": 14, \"value\": 68.0}}, \"mean\": 60.58}, \"Day\": {\"complete\": true, \"numeric\": false, \"num_unique\": 30, \"num_undefined\": 0, \"progress\": 1.0, \"frequent_items\": {\"2016-04-06 00:00:00\": {\"frequency\": 7, \"value\": \"2016-04-06 ...\"}, \"2016-04-11 00:00:00\": {\"frequency\": 7, \"value\": \"2016-04-11 ...\"}, \"2016-04-15 00:00:00\": {\"frequency\": 7, \"value\": \"2016-04-15 ...\"}, \"2016-04-12 00:00:00\": {\"frequency\": 7, \"value\": \"2016-04-12 ...\"}, \"2016-04-18 00:00:00\": {\"frequency\": 7, \"value\": \"2016-04-18 ...\"}, \"2016-04-14 00:00:00\": {\"frequency\": 7, \"value\": \"2016-04-14 ...\"}, \"2016-04-26 00:00:00\": {\"frequency\": 7, \"value\": \"2016-04-26 ...\"}, \"2016-04-09 00:00:00\": {\"frequency\": 7, \"value\": \"2016-04-09 ...\"}, \"2016-04-17 00:00:00\": {\"frequency\": 7, \"value\": \"2016-04-17 ...\"}, \"2016-04-03 00:00:00\": {\"frequency\": 7, \"value\": \"2016-04-03 ...\"}, \"2016-04-10 00:00:00\": {\"frequency\": 7, \"value\": \"2016-04-10 ...\"}, \"2016-04-16 00:00:00\": {\"frequency\": 7, \"value\": \"2016-04-16 ...\"}, \"2016-04-19 00:00:00\": {\"frequency\": 7, \"value\": \"2016-04-19 ...\"}, \"2016-04-02 00:00:00\": {\"frequency\": 7, \"value\": \"2016-04-02 ...\"}, \"2016-04-05 00:00:00\": {\"frequency\": 7, \"value\": \"2016-04-05 ...\"}, \"2016-04-24 00:00:00\": {\"frequency\": 7, \"value\": \"2016-04-24 ...\"}, \"2016-04-20 00:00:00\": {\"frequency\": 7, \"value\": \"2016-04-20 ...\"}, \"2016-04-27 00:00:00\": {\"frequency\": 7, \"value\": \"2016-04-27 ...\"}, \"2016-04-07 00:00:00\": {\"frequency\": 7, \"value\": \"2016-04-07 ...\"}, \"2016-04-29 00:00:00\": {\"frequency\": 7, \"value\": \"2016-04-29 ...\"}, \"2016-04-04 00:00:00\": {\"frequency\": 7, \"value\": \"2016-04-04 ...\"}, \"2016-04-01 00:00:00\": {\"frequency\": 7, \"value\": \"2016-04-01 ...\"}, \"2016-04-21 00:00:00\": {\"frequency\": 7, \"value\": \"2016-04-21 ...\"}, \"2016-04-13 00:00:00\": {\"frequency\": 7, \"value\": \"2016-04-13 ...\"}, \"2016-04-30 00:00:00\": {\"frequency\": 7, \"value\": \"2016-04-30 ...\"}, \"2016-04-08 00:00:00\": {\"frequency\": 7, \"value\": \"2016-04-08 ...\"}, \"2016-04-28 00:00:00\": {\"frequency\": 7, \"value\": \"2016-04-28 ...\"}, \"2016-04-23 00:00:00\": {\"frequency\": 7, \"value\": \"2016-04-23 ...\"}, \"2016-04-22 00:00:00\": {\"frequency\": 7, \"value\": \"2016-04-22 ...\"}, \"2016-04-25 00:00:00\": {\"frequency\": 7, \"value\": \"2016-04-25 ...\"}}, \"size\": 210}, \"Low Temp (\\u00b0F)\": {\"std\": 9.500095905948646, \"complete\": true, \"min\": 26.1, \"max\": 66.0, \"quantile\": [26.1, 26.1, 26.1, 26.1, 30.0, 30.0, 30.0, 30.9, 30.9, 30.9, 33.1, 33.1, 33.1, 33.1, 34.0, 34.0, 34.0, 37.9, 37.9, 37.9, 39.9, 39.9, 39.9, 39.9, 44.1, 44.1, 44.1, 44.1, 44.1, 44.1, 44.6, 44.6, 44.6, 44.6, 45.0, 45.0, 45.0, 45.0, 45.0, 45.0, 46.0, 46.0, 46.0, 46.0, 46.0, 46.0, 46.0, 46.9, 46.9, 46.9, 46.9, 46.9, 46.9, 46.9, 46.9, 46.9, 46.9, 48.0, 48.0, 48.0, 48.0, 48.0, 48.0, 48.0, 48.0, 48.0, 48.0, 48.9, 48.9, 48.9, 50.0, 50.0, 50.0, 50.0, 50.0, 50.0, 50.0, 52.0, 52.0, 52.0, 53.1, 53.1, 53.1, 53.1, 54.0, 54.0, 54.0, 61.0, 61.0, 61.0, 63.0, 63.0, 63.0, 63.0, 63.0, 63.0, 63.0, 66.0, 66.0, 66.0, 66.0], \"median\": 46.9, \"numeric\": true, \"num_unique\": 21, \"num_undefined\": 0, \"var\": 90.25182222222222, \"progress\": 1.0, \"size\": 210, \"frequent_items\": {\"44.1\": {\"frequency\": 14, \"value\": 44.1}, \"66.0\": {\"frequency\": 7, \"value\": 66.0}, \"37.9\": {\"frequency\": 7, \"value\": 37.9}, \"44.6\": {\"frequency\": 7, \"value\": 44.6}, \"26.1\": {\"frequency\": 7, \"value\": 26.1}, \"53.1\": {\"frequency\": 7, \"value\": 53.1}, \"48.9\": {\"frequency\": 7, \"value\": 48.9}, \"34.0\": {\"frequency\": 7, \"value\": 34.0}, \"46.0\": {\"frequency\": 14, \"value\": 46.0}, \"45.0\": {\"frequency\": 14, \"value\": 45.0}, \"48.0\": {\"frequency\": 21, \"value\": 48.0}, \"50.0\": {\"frequency\": 14, \"value\": 50.0}, \"33.1\": {\"frequency\": 7, \"value\": 33.1}, \"52.0\": {\"frequency\": 7, \"value\": 52.0}, \"54.0\": {\"frequency\": 7, \"value\": 54.0}, \"30.9\": {\"frequency\": 7, \"value\": 30.9}, \"39.9\": {\"frequency\": 7, \"value\": 39.9}, \"46.9\": {\"frequency\": 21, \"value\": 46.9}, \"61.0\": {\"frequency\": 7, \"value\": 61.0}, \"30.0\": {\"frequency\": 7, \"value\": 30.0}, \"63.0\": {\"frequency\": 14, \"value\": 63.0}}, \"mean\": 46.41333333333333}}, \"selected_variable\": {\"name\": [\"sf\"], \"descriptives\": {\"rows\": 210, \"columns\": 11}, \"view_component\": \"Summary\", \"view_file\": \"sframe\", \"view_params\": {\"y\": null, \"x\": null, \"columns\": [\"X1\", \"Date\", \"Day\", \"High Temp (\\u00b0F)\", \"Low Temp (\\u00b0F)\", \"Precipitation\", \"Brooklyn Bridge\", \"Manhattan Bridge\", \"Williamsburg Bridge\", \"Queensboro Bridge\", \"Total\"], \"view\": null}, \"view_components\": [\"Summary\", \"Table\", \"Bar Chart\", \"BoxWhisker Plot\", \"Line Chart\", \"Scatter Plot\", \"Heat Map\", \"Plots\"], \"type\": \"SFrame\", \"columns\": [{\"dtype\": \"int\", \"name\": \"X1\"}, {\"dtype\": \"str\", \"name\": \"Date\"}, {\"dtype\": \"str\", \"name\": \"Day\"}, {\"dtype\": \"float\", \"name\": \"High Temp (\\u00b0F)\"}, {\"dtype\": \"float\", \"name\": \"Low Temp (\\u00b0F)\"}, {\"dtype\": \"str\", \"name\": \"Precipitation\"}, {\"dtype\": \"float\", \"name\": \"Brooklyn Bridge\"}, {\"dtype\": \"int\", \"name\": \"Manhattan Bridge\"}, {\"dtype\": \"float\", \"name\": \"Williamsburg Bridge\"}, {\"dtype\": \"float\", \"name\": \"Queensboro Bridge\"}, {\"dtype\": \"int\", \"name\": \"Total\"}], \"column_identifiers\": [\"X1\", \"Brooklyn Bridge\", \"Precipitation\", \"Manhattan Bridge\", \"Williamsburg Bridge\", \"Date\", \"Queensboro Bridge\", \"Total\", \"High Temp (\\u00b0F)\", \"Day\", \"Low Temp (\\u00b0F)\"]}, \"columns\": [{\"dtype\": \"int\", \"name\": \"X1\"}, {\"dtype\": \"str\", \"name\": \"Date\"}, {\"dtype\": \"str\", \"name\": \"Day\"}, {\"dtype\": \"float\", \"name\": \"High Temp (\\u00b0F)\"}, {\"dtype\": \"float\", \"name\": \"Low Temp (\\u00b0F)\"}, {\"dtype\": \"str\", \"name\": \"Precipitation\"}, {\"dtype\": \"float\", \"name\": \"Brooklyn Bridge\"}, {\"dtype\": \"int\", \"name\": \"Manhattan Bridge\"}, {\"dtype\": \"float\", \"name\": \"Williamsburg Bridge\"}, {\"dtype\": \"float\", \"name\": \"Queensboro Bridge\"}, {\"dtype\": \"int\", \"name\": \"Total\"}]}, e);\n",
       "                });\n",
       "            })();\n",
       "        "
      ]
     },
     "metadata": {},
     "output_type": "display_data"
    }
   ],
   "source": [
    "sf.show()"
   ]
  },
  {
   "cell_type": "code",
   "execution_count": 20,
   "metadata": {
    "collapsed": true
   },
   "outputs": [],
   "source": [
    "graphlab.canvas.set_target('ipynb')"
   ]
  },
  {
   "cell_type": "markdown",
   "metadata": {},
   "source": [
    "# Use apply function"
   ]
  },
  {
   "cell_type": "code",
   "execution_count": 24,
   "metadata": {
    "collapsed": true
   },
   "outputs": [],
   "source": [
    "def transform_temp(temp):\n",
    "    if temp < 50 :\n",
    "        return 51"
   ]
  },
  {
   "cell_type": "code",
   "execution_count": 27,
   "metadata": {},
   "outputs": [
    {
     "data": {
      "text/plain": [
       "dtype: int\n",
       "Rows: 210\n",
       "[None, None, 51, 51, 51, 51, None, 51, 51, 51, None, None, None, None, None, None, None, None, None, None, None, None, None, None, None, None, None, None, None, None, None, None, 51, 51, 51, 51, None, 51, 51, 51, None, None, None, None, None, None, None, None, None, None, None, None, None, None, None, None, None, None, None, None, None, None, 51, 51, 51, 51, None, 51, 51, 51, None, None, None, None, None, None, None, None, None, None, None, None, None, None, None, None, None, None, None, None, None, None, 51, 51, 51, 51, None, 51, 51, 51, ... ]"
      ]
     },
     "execution_count": 27,
     "metadata": {},
     "output_type": "execute_result"
    }
   ],
   "source": [
    "sf['High Temp (°F)'].apply(transform_temp)"
   ]
  },
  {
   "cell_type": "code",
   "execution_count": 26,
   "metadata": {},
   "outputs": [
    {
     "data": {
      "text/html": [
       "<div style=\"max-height:1000px;max-width:1500px;overflow:auto;\"><table frame=\"box\" rules=\"cols\">\n",
       "    <tr>\n",
       "        <th style=\"padding-left: 1em; padding-right: 1em; text-align: center\">X1</th>\n",
       "        <th style=\"padding-left: 1em; padding-right: 1em; text-align: center\">Date</th>\n",
       "        <th style=\"padding-left: 1em; padding-right: 1em; text-align: center\">Day</th>\n",
       "        <th style=\"padding-left: 1em; padding-right: 1em; text-align: center\">High Temp (°F)</th>\n",
       "        <th style=\"padding-left: 1em; padding-right: 1em; text-align: center\">Low Temp (°F)</th>\n",
       "        <th style=\"padding-left: 1em; padding-right: 1em; text-align: center\">Precipitation</th>\n",
       "        <th style=\"padding-left: 1em; padding-right: 1em; text-align: center\">Brooklyn Bridge</th>\n",
       "    </tr>\n",
       "    <tr>\n",
       "        <td style=\"padding-left: 1em; padding-right: 1em; text-align: center; vertical-align: top\">0</td>\n",
       "        <td style=\"padding-left: 1em; padding-right: 1em; text-align: center; vertical-align: top\">2016-04-01 00:00:00</td>\n",
       "        <td style=\"padding-left: 1em; padding-right: 1em; text-align: center; vertical-align: top\">2016-04-01 00:00:00</td>\n",
       "        <td style=\"padding-left: 1em; padding-right: 1em; text-align: center; vertical-align: top\">78.1</td>\n",
       "        <td style=\"padding-left: 1em; padding-right: 1em; text-align: center; vertical-align: top\">66.0</td>\n",
       "        <td style=\"padding-left: 1em; padding-right: 1em; text-align: center; vertical-align: top\">0.01</td>\n",
       "        <td style=\"padding-left: 1em; padding-right: 1em; text-align: center; vertical-align: top\">1704.0</td>\n",
       "    </tr>\n",
       "    <tr>\n",
       "        <td style=\"padding-left: 1em; padding-right: 1em; text-align: center; vertical-align: top\">1</td>\n",
       "        <td style=\"padding-left: 1em; padding-right: 1em; text-align: center; vertical-align: top\">2016-04-02 00:00:00</td>\n",
       "        <td style=\"padding-left: 1em; padding-right: 1em; text-align: center; vertical-align: top\">2016-04-02 00:00:00</td>\n",
       "        <td style=\"padding-left: 1em; padding-right: 1em; text-align: center; vertical-align: top\">55.0</td>\n",
       "        <td style=\"padding-left: 1em; padding-right: 1em; text-align: center; vertical-align: top\">48.9</td>\n",
       "        <td style=\"padding-left: 1em; padding-right: 1em; text-align: center; vertical-align: top\">0.15</td>\n",
       "        <td style=\"padding-left: 1em; padding-right: 1em; text-align: center; vertical-align: top\">827.0</td>\n",
       "    </tr>\n",
       "    <tr>\n",
       "        <td style=\"padding-left: 1em; padding-right: 1em; text-align: center; vertical-align: top\">2</td>\n",
       "        <td style=\"padding-left: 1em; padding-right: 1em; text-align: center; vertical-align: top\">2016-04-03 00:00:00</td>\n",
       "        <td style=\"padding-left: 1em; padding-right: 1em; text-align: center; vertical-align: top\">2016-04-03 00:00:00</td>\n",
       "        <td style=\"padding-left: 1em; padding-right: 1em; text-align: center; vertical-align: top\">39.9</td>\n",
       "        <td style=\"padding-left: 1em; padding-right: 1em; text-align: center; vertical-align: top\">34.0</td>\n",
       "        <td style=\"padding-left: 1em; padding-right: 1em; text-align: center; vertical-align: top\">0.09</td>\n",
       "        <td style=\"padding-left: 1em; padding-right: 1em; text-align: center; vertical-align: top\">526.0</td>\n",
       "    </tr>\n",
       "    <tr>\n",
       "        <td style=\"padding-left: 1em; padding-right: 1em; text-align: center; vertical-align: top\">3</td>\n",
       "        <td style=\"padding-left: 1em; padding-right: 1em; text-align: center; vertical-align: top\">2016-04-04 00:00:00</td>\n",
       "        <td style=\"padding-left: 1em; padding-right: 1em; text-align: center; vertical-align: top\">2016-04-04 00:00:00</td>\n",
       "        <td style=\"padding-left: 1em; padding-right: 1em; text-align: center; vertical-align: top\">44.1</td>\n",
       "        <td style=\"padding-left: 1em; padding-right: 1em; text-align: center; vertical-align: top\">33.1</td>\n",
       "        <td style=\"padding-left: 1em; padding-right: 1em; text-align: center; vertical-align: top\">0.47 (S)</td>\n",
       "        <td style=\"padding-left: 1em; padding-right: 1em; text-align: center; vertical-align: top\">521.0</td>\n",
       "    </tr>\n",
       "    <tr>\n",
       "        <td style=\"padding-left: 1em; padding-right: 1em; text-align: center; vertical-align: top\">4</td>\n",
       "        <td style=\"padding-left: 1em; padding-right: 1em; text-align: center; vertical-align: top\">2016-04-05 00:00:00</td>\n",
       "        <td style=\"padding-left: 1em; padding-right: 1em; text-align: center; vertical-align: top\">2016-04-05 00:00:00</td>\n",
       "        <td style=\"padding-left: 1em; padding-right: 1em; text-align: center; vertical-align: top\">42.1</td>\n",
       "        <td style=\"padding-left: 1em; padding-right: 1em; text-align: center; vertical-align: top\">26.1</td>\n",
       "        <td style=\"padding-left: 1em; padding-right: 1em; text-align: center; vertical-align: top\">0</td>\n",
       "        <td style=\"padding-left: 1em; padding-right: 1em; text-align: center; vertical-align: top\">1416.0</td>\n",
       "    </tr>\n",
       "    <tr>\n",
       "        <td style=\"padding-left: 1em; padding-right: 1em; text-align: center; vertical-align: top\">5</td>\n",
       "        <td style=\"padding-left: 1em; padding-right: 1em; text-align: center; vertical-align: top\">2016-04-06 00:00:00</td>\n",
       "        <td style=\"padding-left: 1em; padding-right: 1em; text-align: center; vertical-align: top\">2016-04-06 00:00:00</td>\n",
       "        <td style=\"padding-left: 1em; padding-right: 1em; text-align: center; vertical-align: top\">45.0</td>\n",
       "        <td style=\"padding-left: 1em; padding-right: 1em; text-align: center; vertical-align: top\">30.0</td>\n",
       "        <td style=\"padding-left: 1em; padding-right: 1em; text-align: center; vertical-align: top\">0</td>\n",
       "        <td style=\"padding-left: 1em; padding-right: 1em; text-align: center; vertical-align: top\">1885.0</td>\n",
       "    </tr>\n",
       "    <tr>\n",
       "        <td style=\"padding-left: 1em; padding-right: 1em; text-align: center; vertical-align: top\">6</td>\n",
       "        <td style=\"padding-left: 1em; padding-right: 1em; text-align: center; vertical-align: top\">2016-04-07 00:00:00</td>\n",
       "        <td style=\"padding-left: 1em; padding-right: 1em; text-align: center; vertical-align: top\">2016-04-07 00:00:00</td>\n",
       "        <td style=\"padding-left: 1em; padding-right: 1em; text-align: center; vertical-align: top\">57.0</td>\n",
       "        <td style=\"padding-left: 1em; padding-right: 1em; text-align: center; vertical-align: top\">53.1</td>\n",
       "        <td style=\"padding-left: 1em; padding-right: 1em; text-align: center; vertical-align: top\">0.09</td>\n",
       "        <td style=\"padding-left: 1em; padding-right: 1em; text-align: center; vertical-align: top\">1276.0</td>\n",
       "    </tr>\n",
       "    <tr>\n",
       "        <td style=\"padding-left: 1em; padding-right: 1em; text-align: center; vertical-align: top\">7</td>\n",
       "        <td style=\"padding-left: 1em; padding-right: 1em; text-align: center; vertical-align: top\">2016-04-08 00:00:00</td>\n",
       "        <td style=\"padding-left: 1em; padding-right: 1em; text-align: center; vertical-align: top\">2016-04-08 00:00:00</td>\n",
       "        <td style=\"padding-left: 1em; padding-right: 1em; text-align: center; vertical-align: top\">46.9</td>\n",
       "        <td style=\"padding-left: 1em; padding-right: 1em; text-align: center; vertical-align: top\">44.1</td>\n",
       "        <td style=\"padding-left: 1em; padding-right: 1em; text-align: center; vertical-align: top\">0.01</td>\n",
       "        <td style=\"padding-left: 1em; padding-right: 1em; text-align: center; vertical-align: top\">1982.0</td>\n",
       "    </tr>\n",
       "    <tr>\n",
       "        <td style=\"padding-left: 1em; padding-right: 1em; text-align: center; vertical-align: top\">8</td>\n",
       "        <td style=\"padding-left: 1em; padding-right: 1em; text-align: center; vertical-align: top\">2016-04-09 00:00:00</td>\n",
       "        <td style=\"padding-left: 1em; padding-right: 1em; text-align: center; vertical-align: top\">2016-04-09 00:00:00</td>\n",
       "        <td style=\"padding-left: 1em; padding-right: 1em; text-align: center; vertical-align: top\">43.0</td>\n",
       "        <td style=\"padding-left: 1em; padding-right: 1em; text-align: center; vertical-align: top\">37.9</td>\n",
       "        <td style=\"padding-left: 1em; padding-right: 1em; text-align: center; vertical-align: top\">0.09</td>\n",
       "        <td style=\"padding-left: 1em; padding-right: 1em; text-align: center; vertical-align: top\">504.0</td>\n",
       "    </tr>\n",
       "    <tr>\n",
       "        <td style=\"padding-left: 1em; padding-right: 1em; text-align: center; vertical-align: top\">9</td>\n",
       "        <td style=\"padding-left: 1em; padding-right: 1em; text-align: center; vertical-align: top\">2016-04-10 00:00:00</td>\n",
       "        <td style=\"padding-left: 1em; padding-right: 1em; text-align: center; vertical-align: top\">2016-04-10 00:00:00</td>\n",
       "        <td style=\"padding-left: 1em; padding-right: 1em; text-align: center; vertical-align: top\">48.9</td>\n",
       "        <td style=\"padding-left: 1em; padding-right: 1em; text-align: center; vertical-align: top\">30.9</td>\n",
       "        <td style=\"padding-left: 1em; padding-right: 1em; text-align: center; vertical-align: top\">0</td>\n",
       "        <td style=\"padding-left: 1em; padding-right: 1em; text-align: center; vertical-align: top\">1447.0</td>\n",
       "    </tr>\n",
       "</table>\n",
       "<table frame=\"box\" rules=\"cols\">\n",
       "    <tr>\n",
       "        <th style=\"padding-left: 1em; padding-right: 1em; text-align: center\">Manhattan Bridge</th>\n",
       "        <th style=\"padding-left: 1em; padding-right: 1em; text-align: center\">Williamsburg Bridge</th>\n",
       "        <th style=\"padding-left: 1em; padding-right: 1em; text-align: center\">Queensboro Bridge</th>\n",
       "        <th style=\"padding-left: 1em; padding-right: 1em; text-align: center\">Total</th>\n",
       "    </tr>\n",
       "    <tr>\n",
       "        <td style=\"padding-left: 1em; padding-right: 1em; text-align: center; vertical-align: top\">3126</td>\n",
       "        <td style=\"padding-left: 1em; padding-right: 1em; text-align: center; vertical-align: top\">4115.0</td>\n",
       "        <td style=\"padding-left: 1em; padding-right: 1em; text-align: center; vertical-align: top\">2552.0</td>\n",
       "        <td style=\"padding-left: 1em; padding-right: 1em; text-align: center; vertical-align: top\">11497</td>\n",
       "    </tr>\n",
       "    <tr>\n",
       "        <td style=\"padding-left: 1em; padding-right: 1em; text-align: center; vertical-align: top\">1646</td>\n",
       "        <td style=\"padding-left: 1em; padding-right: 1em; text-align: center; vertical-align: top\">2565.0</td>\n",
       "        <td style=\"padding-left: 1em; padding-right: 1em; text-align: center; vertical-align: top\">1884.0</td>\n",
       "        <td style=\"padding-left: 1em; padding-right: 1em; text-align: center; vertical-align: top\">6922</td>\n",
       "    </tr>\n",
       "    <tr>\n",
       "        <td style=\"padding-left: 1em; padding-right: 1em; text-align: center; vertical-align: top\">1232</td>\n",
       "        <td style=\"padding-left: 1em; padding-right: 1em; text-align: center; vertical-align: top\">1695.0</td>\n",
       "        <td style=\"padding-left: 1em; padding-right: 1em; text-align: center; vertical-align: top\">1306.0</td>\n",
       "        <td style=\"padding-left: 1em; padding-right: 1em; text-align: center; vertical-align: top\">4759</td>\n",
       "    </tr>\n",
       "    <tr>\n",
       "        <td style=\"padding-left: 1em; padding-right: 1em; text-align: center; vertical-align: top\">1067</td>\n",
       "        <td style=\"padding-left: 1em; padding-right: 1em; text-align: center; vertical-align: top\">1440.0</td>\n",
       "        <td style=\"padding-left: 1em; padding-right: 1em; text-align: center; vertical-align: top\">1307.0</td>\n",
       "        <td style=\"padding-left: 1em; padding-right: 1em; text-align: center; vertical-align: top\">4335</td>\n",
       "    </tr>\n",
       "    <tr>\n",
       "        <td style=\"padding-left: 1em; padding-right: 1em; text-align: center; vertical-align: top\">2617</td>\n",
       "        <td style=\"padding-left: 1em; padding-right: 1em; text-align: center; vertical-align: top\">3081.0</td>\n",
       "        <td style=\"padding-left: 1em; padding-right: 1em; text-align: center; vertical-align: top\">2357.0</td>\n",
       "        <td style=\"padding-left: 1em; padding-right: 1em; text-align: center; vertical-align: top\">9471</td>\n",
       "    </tr>\n",
       "    <tr>\n",
       "        <td style=\"padding-left: 1em; padding-right: 1em; text-align: center; vertical-align: top\">3329</td>\n",
       "        <td style=\"padding-left: 1em; padding-right: 1em; text-align: center; vertical-align: top\">3856.0</td>\n",
       "        <td style=\"padding-left: 1em; padding-right: 1em; text-align: center; vertical-align: top\">2849.0</td>\n",
       "        <td style=\"padding-left: 1em; padding-right: 1em; text-align: center; vertical-align: top\">11919</td>\n",
       "    </tr>\n",
       "    <tr>\n",
       "        <td style=\"padding-left: 1em; padding-right: 1em; text-align: center; vertical-align: top\">2581</td>\n",
       "        <td style=\"padding-left: 1em; padding-right: 1em; text-align: center; vertical-align: top\">3282.0</td>\n",
       "        <td style=\"padding-left: 1em; padding-right: 1em; text-align: center; vertical-align: top\">2457.0</td>\n",
       "        <td style=\"padding-left: 1em; padding-right: 1em; text-align: center; vertical-align: top\">9596</td>\n",
       "    </tr>\n",
       "    <tr>\n",
       "        <td style=\"padding-left: 1em; padding-right: 1em; text-align: center; vertical-align: top\">3455</td>\n",
       "        <td style=\"padding-left: 1em; padding-right: 1em; text-align: center; vertical-align: top\">4113.0</td>\n",
       "        <td style=\"padding-left: 1em; padding-right: 1em; text-align: center; vertical-align: top\">3194.0</td>\n",
       "        <td style=\"padding-left: 1em; padding-right: 1em; text-align: center; vertical-align: top\">12744</td>\n",
       "    </tr>\n",
       "    <tr>\n",
       "        <td style=\"padding-left: 1em; padding-right: 1em; text-align: center; vertical-align: top\">997</td>\n",
       "        <td style=\"padding-left: 1em; padding-right: 1em; text-align: center; vertical-align: top\">1507.0</td>\n",
       "        <td style=\"padding-left: 1em; padding-right: 1em; text-align: center; vertical-align: top\">1502.0</td>\n",
       "        <td style=\"padding-left: 1em; padding-right: 1em; text-align: center; vertical-align: top\">4510</td>\n",
       "    </tr>\n",
       "    <tr>\n",
       "        <td style=\"padding-left: 1em; padding-right: 1em; text-align: center; vertical-align: top\">2387</td>\n",
       "        <td style=\"padding-left: 1em; padding-right: 1em; text-align: center; vertical-align: top\">3132.0</td>\n",
       "        <td style=\"padding-left: 1em; padding-right: 1em; text-align: center; vertical-align: top\">2160.0</td>\n",
       "        <td style=\"padding-left: 1em; padding-right: 1em; text-align: center; vertical-align: top\">9126</td>\n",
       "    </tr>\n",
       "</table>\n",
       "[10 rows x 11 columns]<br/>\n",
       "</div>"
      ],
      "text/plain": [
       "Columns:\n",
       "\tX1\tint\n",
       "\tDate\tstr\n",
       "\tDay\tstr\n",
       "\tHigh Temp (°F)\tfloat\n",
       "\tLow Temp (°F)\tfloat\n",
       "\tPrecipitation\tstr\n",
       "\tBrooklyn Bridge\tfloat\n",
       "\tManhattan Bridge\tint\n",
       "\tWilliamsburg Bridge\tfloat\n",
       "\tQueensboro Bridge\tfloat\n",
       "\tTotal\tint\n",
       "\n",
       "Rows: 10\n",
       "\n",
       "Data:\n",
       "+----+---------------------+---------------------+----------------+---------------+\n",
       "| X1 |         Date        |         Day         | High Temp (°F) | Low Temp (°F) |\n",
       "+----+---------------------+---------------------+----------------+---------------+\n",
       "| 0  | 2016-04-01 00:00:00 | 2016-04-01 00:00:00 |      78.1      |      66.0     |\n",
       "| 1  | 2016-04-02 00:00:00 | 2016-04-02 00:00:00 |      55.0      |      48.9     |\n",
       "| 2  | 2016-04-03 00:00:00 | 2016-04-03 00:00:00 |      39.9      |      34.0     |\n",
       "| 3  | 2016-04-04 00:00:00 | 2016-04-04 00:00:00 |      44.1      |      33.1     |\n",
       "| 4  | 2016-04-05 00:00:00 | 2016-04-05 00:00:00 |      42.1      |      26.1     |\n",
       "| 5  | 2016-04-06 00:00:00 | 2016-04-06 00:00:00 |      45.0      |      30.0     |\n",
       "| 6  | 2016-04-07 00:00:00 | 2016-04-07 00:00:00 |      57.0      |      53.1     |\n",
       "| 7  | 2016-04-08 00:00:00 | 2016-04-08 00:00:00 |      46.9      |      44.1     |\n",
       "| 8  | 2016-04-09 00:00:00 | 2016-04-09 00:00:00 |      43.0      |      37.9     |\n",
       "| 9  | 2016-04-10 00:00:00 | 2016-04-10 00:00:00 |      48.9      |      30.9     |\n",
       "+----+---------------------+---------------------+----------------+---------------+\n",
       "+---------------+-----------------+------------------+---------------------+\n",
       "| Precipitation | Brooklyn Bridge | Manhattan Bridge | Williamsburg Bridge |\n",
       "+---------------+-----------------+------------------+---------------------+\n",
       "|      0.01     |      1704.0     |       3126       |        4115.0       |\n",
       "|      0.15     |      827.0      |       1646       |        2565.0       |\n",
       "|      0.09     |      526.0      |       1232       |        1695.0       |\n",
       "|    0.47 (S)   |      521.0      |       1067       |        1440.0       |\n",
       "|       0       |      1416.0     |       2617       |        3081.0       |\n",
       "|       0       |      1885.0     |       3329       |        3856.0       |\n",
       "|      0.09     |      1276.0     |       2581       |        3282.0       |\n",
       "|      0.01     |      1982.0     |       3455       |        4113.0       |\n",
       "|      0.09     |      504.0      |       997        |        1507.0       |\n",
       "|       0       |      1447.0     |       2387       |        3132.0       |\n",
       "+---------------+-----------------+------------------+---------------------+\n",
       "+-------------------+-------+\n",
       "| Queensboro Bridge | Total |\n",
       "+-------------------+-------+\n",
       "|       2552.0      | 11497 |\n",
       "|       1884.0      |  6922 |\n",
       "|       1306.0      |  4759 |\n",
       "|       1307.0      |  4335 |\n",
       "|       2357.0      |  9471 |\n",
       "|       2849.0      | 11919 |\n",
       "|       2457.0      |  9596 |\n",
       "|       3194.0      | 12744 |\n",
       "|       1502.0      |  4510 |\n",
       "|       2160.0      |  9126 |\n",
       "+-------------------+-------+\n",
       "[10 rows x 11 columns]"
      ]
     },
     "execution_count": 26,
     "metadata": {},
     "output_type": "execute_result"
    }
   ],
   "source": [
    "sf.head(10)"
   ]
  }
 ],
 "metadata": {
  "kernelspec": {
   "display_name": "Python 3",
   "language": "python",
   "name": "python3"
  },
  "language_info": {
   "codemirror_mode": {
    "name": "ipython",
    "version": 3
   },
   "file_extension": ".py",
   "mimetype": "text/x-python",
   "name": "python",
   "nbconvert_exporter": "python",
   "pygments_lexer": "ipython3",
   "version": "3.7.4"
  }
 },
 "nbformat": 4,
 "nbformat_minor": 1
}
